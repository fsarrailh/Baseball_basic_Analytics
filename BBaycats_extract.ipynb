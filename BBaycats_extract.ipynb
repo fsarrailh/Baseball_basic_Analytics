{
 "cells": [
  {
   "cell_type": "code",
   "execution_count": 1,
   "metadata": {},
   "outputs": [],
   "source": [
    "import re\n",
    "import pandas as pd"
   ]
  },
  {
   "cell_type": "code",
   "execution_count": 9,
   "metadata": {},
   "outputs": [
    {
     "name": "stdout",
     "output_type": "stream",
     "text": [
      "Rows starting with 'X' have been removed and saved to BATTING_STATS_CLEANED.txt\n"
     ]
    }
   ],
   "source": [
    "# Open the original .txt file and read its lines\n",
    "with open('BATTING STATS 2014-2024 ALL SEASONS.txt', 'r') as file:\n",
    "    lines = file.readlines()\n",
    "\n",
    "# Filter out rows that start with 'X'\n",
    "cleaned_lines = [line for line in lines if not line.strip().startswith(('X', 'T'))]\n",
    "\n",
    "# Save the cleaned data back to a new .txt file\n",
    "with open('BATTING_STATS_CLEANED_noXorT.txt', 'w') as file:\n",
    "    file.writelines(cleaned_lines)\n",
    "\n",
    "print(\"Rows starting with 'X' have been removed and saved to BATTING_STATS_CLEANED.txt\")"
   ]
  },
  {
   "cell_type": "code",
   "execution_count": 30,
   "metadata": {},
   "outputs": [
    {
     "name": "stdout",
     "output_type": "stream",
     "text": [
      "Season detected: PLAYOFFS 2024\n",
      "Skipping unmatched line: PLAYER              TEAM         AVG   G   AB   R   H  2B  3B  HR RBI  TB  BB IBB  HP  SO  SF  SH  SB  CS   OBP   SLG   OPS   E\n",
      "Season detected: SUMMER 2024\n",
      "Season detected: PLAYOFFS 2023\n",
      "Season detected: SUMMER 2023\n",
      "Season detected: PLAYOFFS 2022\n",
      "Season detected: SUMMER 2022\n",
      "Season detected: PLAYOFFS 2021\n",
      "Season detected: SUMMER 2021\n",
      "Season detected: PLAYOFFS 2019\n",
      "Season detected: SUMMER 2019\n",
      "Season detected: PLAYOFFS 2018\n",
      "Season detected: SUMMER 2018\n",
      "Season detected: PLAYOFFS 2017\n",
      "Season detected: SUMMER 2017\n",
      "Season detected: PLAYOFFS 2016\n",
      "Season detected: SUMMER 2016\n",
      "Season detected: PLAYOFFS 2015\n",
      "Season detected: SUMMER 2015\n",
      "Season detected: PLAYOFFS 2014\n",
      "Season detected: SUMMER 2014\n",
      "Parsed Data:\n",
      "  Detail            Player         Season        Team   AVG  G  AB   R   H 2B  \\\n",
      "0      -    Anderson, Jack  PLAYOFFS 2024   Kitchener  .000  2   2   0   0  0   \n",
      "1      -   Anderson, James  PLAYOFFS 2024      Barrie  .500  2   2   1   1  1   \n",
      "2      -       Ando, Royce  PLAYOFFS 2024      Barrie  .353  8  34  10  12  1   \n",
      "3      *  Barrett, Greyson  PLAYOFFS 2024     Welland  .250  7  16   3   4  1   \n",
      "4      -    Battel, Daniel  PLAYOFFS 2024  Chatham-Ke  .250  2   8   2   2  2   \n",
      "\n",
      "   ... HP  SO SF SH SB CS   OBP    SLG    OPS  E  \n",
      "0  ...  0   2  0  0  0  0  .000   .000   .000  0  \n",
      "1  ...  0   1  0  0  0  0  .667  1.000  1.667  0  \n",
      "2  ...  1  13  0  0  0  0  .421   .382   .803  4  \n",
      "3  ...  0   8  0  0  0  0  .333   .313   .646  0  \n",
      "4  ...  0   4  0  0  0  0  .250   .500   .750  1  \n",
      "\n",
      "[5 rows x 26 columns]\n"
     ]
    }
   ],
   "source": [
    "import pandas as pd\n",
    "import re\n",
    "\n",
    "# Define output file path\n",
    "output_csv = 'parsed_player_stats_refined.csv'\n",
    "\n",
    "# Define column names\n",
    "columns = [\n",
    "    'Detail', 'Player', 'Season', 'Team', 'AVG', 'G', 'AB', 'R', 'H', '2B', '3B', \n",
    "    'HR', 'RBI', 'TB', 'BB', 'IBB', 'HP', 'SO', 'SF', 'SH', 'SB', 'CS', 'OBP', \n",
    "    'SLG', 'OPS', 'E'\n",
    "]\n",
    "\n",
    "# Updated player line pattern with flexible spacing and optional symbol capture\n",
    "player_line_pattern = re.compile(\n",
    "    r'^\\s*([*#]?\\d?[*#]?)?\\s*([^,]+,\\s*[^ ]+)\\s{2,}([^\\s]+)\\s+'   # Detail, Player, Team\n",
    "    r'(\\d?\\.\\d{3}|\\d\\.\\d{3})\\s+(\\d+)\\s+(\\d+)\\s+(\\d+)\\s+(\\d+)\\s+'   # AVG, G, AB, R, H\n",
    "    r'(\\d+)\\s+(\\d+)\\s+(\\d+)\\s+(\\d+)\\s+(\\d+)\\s+(\\d+)\\s+(\\d+)\\s+'     # 2B, 3B, HR, RBI, TB, BB, IBB\n",
    "    r'(\\d+)\\s+(\\d+)\\s+(\\d+)\\s+(\\d+)\\s+'                             # HP, SO, SF, SH\n",
    "    r'(\\d+)\\s+(\\d+)\\s+'                                             # SB, CS\n",
    "    r'(\\d?\\.\\d{3}|\\d\\.\\d{3})\\s+(\\d?\\.\\d{3}|\\d\\.\\d{3})\\s+'           # OBP, SLG\n",
    "    r'(\\d?\\.\\d{3}|\\d\\.\\d{3})\\s+(\\d+)$'                              # OPS, E\n",
    ")\n",
    "\n",
    "# Initialize list for parsed data and season tracking\n",
    "data = []\n",
    "season = ''\n",
    "\n",
    "# Read the .txt file\n",
    "with open('BATTING_STATS_CLEANED_noXorT.txt', 'r') as file:\n",
    "    lines = file.readlines()\n",
    "\n",
    "# Iterate over each line in the file\n",
    "for line in lines:\n",
    "    # Check for season headers\n",
    "    season_match = season_header.match(line)\n",
    "    if season_match:\n",
    "        season = f\"{season_match.group(1)} {season_match.group(2)}\"\n",
    "        print(f\"Season detected: {season}\")\n",
    "        continue\n",
    "\n",
    "    # Match player line with the updated pattern\n",
    "    player_match = player_line_pattern.match(line)\n",
    "    if player_match:\n",
    "        # Extract detail, player name, team, and stats fields\n",
    "        detail = player_match.group(1) if player_match.group(1) else \"-\"\n",
    "        player_name = player_match.group(2).strip()\n",
    "        team = player_match.group(3).strip()\n",
    "\n",
    "        # Collect stats from regex match groups\n",
    "        stats = player_match.groups()[3:]\n",
    "\n",
    "        # Append parsed line to data\n",
    "        data.append([detail, player_name, season, team] + list(stats))\n",
    "    else:\n",
    "        # Print unmatched lines for troubleshooting\n",
    "        print(f\"Skipping unmatched line: {line.strip()}\")\n",
    "\n",
    "# Create DataFrame from parsed data\n",
    "df = pd.DataFrame(data, columns=columns)\n",
    "\n",
    "# Export to CSV\n",
    "df.to_csv(output_csv, index=False)\n",
    "\n",
    "# Show the first few rows to check parsing accuracy\n",
    "print(\"Parsed Data:\")\n",
    "print(df.head())\n"
   ]
  },
  {
   "cell_type": "code",
   "execution_count": null,
   "metadata": {},
   "outputs": [],
   "source": []
  }
 ],
 "metadata": {
  "kernelspec": {
   "display_name": "Python 3",
   "language": "python",
   "name": "python3"
  },
  "language_info": {
   "codemirror_mode": {
    "name": "ipython",
    "version": 3
   },
   "file_extension": ".py",
   "mimetype": "text/x-python",
   "name": "python",
   "nbconvert_exporter": "python",
   "pygments_lexer": "ipython3",
   "version": "3.12.3"
  }
 },
 "nbformat": 4,
 "nbformat_minor": 2
}
